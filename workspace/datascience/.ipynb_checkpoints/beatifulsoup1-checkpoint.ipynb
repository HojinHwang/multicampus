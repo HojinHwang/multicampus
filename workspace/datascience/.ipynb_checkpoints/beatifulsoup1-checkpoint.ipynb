{
 "cells": [
  {
   "cell_type": "code",
   "execution_count": 3,
   "metadata": {},
   "outputs": [],
   "source": [
    "from bs4 import BeautifulSoup\n",
    "from urllib.request import urlopen"
   ]
  },
  {
   "cell_type": "code",
   "execution_count": 4,
   "metadata": {},
   "outputs": [],
   "source": [
    "html = urlopen('http://beans-r-us.appspot.com/prices.html')\n",
    "soup = BeautifulSoup(html, 'lxml')"
   ]
  },
  {
   "cell_type": "code",
   "execution_count": 5,
   "metadata": {},
   "outputs": [
    {
     "data": {
      "text/plain": [
       "<html><head><title>Welcome to the Beans'R'Us Pricing Page</title>\n",
       "<link href=\"beansrus.css\" rel=\"stylesheet\" type=\"text/css\"/>\n",
       "</head><body>\n",
       "<h2>Welcome to the Beans'R'Us Pricing Page</h2>\n",
       "<p>Current price of coffee beans = <strong>$6.45</strong></p>\n",
       "<p>Price valid for 15 minutes from Fri May 11 03:16:42 2018.</p>\n",
       "</body></html>"
      ]
     },
     "execution_count": 5,
     "metadata": {},
     "output_type": "execute_result"
    }
   ],
   "source": [
    "soup"
   ]
  },
  {
   "cell_type": "code",
   "execution_count": 6,
   "metadata": {},
   "outputs": [
    {
     "data": {
      "text/plain": [
       "<p>Current price of coffee beans = <strong>$6.45</strong></p>"
      ]
     },
     "execution_count": 6,
     "metadata": {},
     "output_type": "execute_result"
    }
   ],
   "source": [
    "soup.p"
   ]
  },
  {
   "cell_type": "code",
   "execution_count": 7,
   "metadata": {},
   "outputs": [
    {
     "data": {
      "text/plain": [
       "<strong>$6.45</strong>"
      ]
     },
     "execution_count": 7,
     "metadata": {},
     "output_type": "execute_result"
    }
   ],
   "source": [
    "soup.strong"
   ]
  },
  {
   "cell_type": "code",
   "execution_count": 8,
   "metadata": {},
   "outputs": [
    {
     "data": {
      "text/plain": [
       "<body>\n",
       "<h2>Welcome to the Beans'R'Us Pricing Page</h2>\n",
       "<p>Current price of coffee beans = <strong>$6.45</strong></p>\n",
       "<p>Price valid for 15 minutes from Fri May 11 03:16:42 2018.</p>\n",
       "</body>"
      ]
     },
     "execution_count": 8,
     "metadata": {},
     "output_type": "execute_result"
    }
   ],
   "source": [
    "soup.body"
   ]
  },
  {
   "cell_type": "code",
   "execution_count": 9,
   "metadata": {},
   "outputs": [
    {
     "data": {
      "text/plain": [
       "<strong>$6.45</strong>"
      ]
     },
     "execution_count": 9,
     "metadata": {},
     "output_type": "execute_result"
    }
   ],
   "source": [
    "soup.p.strong"
   ]
  },
  {
   "cell_type": "code",
   "execution_count": 10,
   "metadata": {},
   "outputs": [
    {
     "name": "stdout",
     "output_type": "stream",
     "text": [
      "<html><head><title>Welcome to the Beans'R'Us Pricing Page</title>\n",
      "<link href=\"beansrus.css\" rel=\"stylesheet\" type=\"text/css\"/>\n",
      "</head><body>\n",
      "<h2>Welcome to the Beans'R'Us Pricing Page</h2>\n",
      "<p>Current price of coffee beans = <strong>$6.45</strong></p>\n",
      "<p>Price valid for 15 minutes from Fri May 11 03:16:42 2018.</p>\n",
      "</body></html>\n",
      "----------\n",
      "<head><title>Welcome to the Beans'R'Us Pricing Page</title>\n",
      "<link href=\"beansrus.css\" rel=\"stylesheet\" type=\"text/css\"/>\n",
      "</head>\n",
      "----------\n",
      "<title>Welcome to the Beans'R'Us Pricing Page</title>\n",
      "----------\n",
      "Welcome to the Beans'R'Us Pricing Page\n",
      "----------\n",
      "\n",
      "\n",
      "----------\n",
      "<link href=\"beansrus.css\" rel=\"stylesheet\" type=\"text/css\"/>\n",
      "----------\n",
      "\n",
      "\n",
      "----------\n",
      "<body>\n",
      "<h2>Welcome to the Beans'R'Us Pricing Page</h2>\n",
      "<p>Current price of coffee beans = <strong>$6.45</strong></p>\n",
      "<p>Price valid for 15 minutes from Fri May 11 03:16:42 2018.</p>\n",
      "</body>\n",
      "----------\n",
      "\n",
      "\n",
      "----------\n",
      "<h2>Welcome to the Beans'R'Us Pricing Page</h2>\n",
      "----------\n",
      "Welcome to the Beans'R'Us Pricing Page\n",
      "----------\n",
      "\n",
      "\n",
      "----------\n",
      "<p>Current price of coffee beans = <strong>$6.45</strong></p>\n",
      "----------\n",
      "Current price of coffee beans = \n",
      "----------\n",
      "<strong>$6.45</strong>\n",
      "----------\n",
      "$6.45\n",
      "----------\n",
      "\n",
      "\n",
      "----------\n",
      "<p>Price valid for 15 minutes from Fri May 11 03:16:42 2018.</p>\n",
      "----------\n",
      "Price valid for 15 minutes from Fri May 11 03:16:42 2018.\n",
      "----------\n",
      "\n",
      "\n",
      "----------\n"
     ]
    }
   ],
   "source": [
    "for each in soup.descendants:\n",
    "    print(each)\n",
    "    print('----------')"
   ]
  },
  {
   "cell_type": "code",
   "execution_count": 12,
   "metadata": {},
   "outputs": [
    {
     "name": "stdout",
     "output_type": "stream",
     "text": [
      "\"Welcome to the Beans'R'Us Pricing Page\"\n",
      "'\\n'\n",
      "'\\n'\n",
      "'\\n'\n",
      "\"Welcome to the Beans'R'Us Pricing Page\"\n",
      "'\\n'\n",
      "'Current price of coffee beans = '\n",
      "'$6.45'\n",
      "'\\n'\n",
      "'Price valid for 15 minutes from Fri May 11 03:16:42 2018.'\n",
      "'\\n'\n"
     ]
    }
   ],
   "source": [
    "for string in soup.strings:\n",
    "    print(repr(string))"
   ]
  },
  {
   "cell_type": "code",
   "execution_count": 13,
   "metadata": {},
   "outputs": [
    {
     "name": "stdout",
     "output_type": "stream",
     "text": [
      "\"Welcome to the Beans'R'Us Pricing Page\"\n",
      "\"Welcome to the Beans'R'Us Pricing Page\"\n",
      "'Current price of coffee beans ='\n",
      "'$6.45'\n",
      "'Price valid for 15 minutes from Fri May 11 03:16:42 2018.'\n"
     ]
    }
   ],
   "source": [
    "for string in soup.stripped_strings:\n",
    "    print(repr(string))"
   ]
  },
  {
   "cell_type": "code",
   "execution_count": 14,
   "metadata": {},
   "outputs": [
    {
     "name": "stdout",
     "output_type": "stream",
     "text": [
      "p\n",
      "body\n",
      "html\n",
      "[document]\n"
     ]
    }
   ],
   "source": [
    "link = soup.strong\n",
    "for parent in link.parents:\n",
    "    if parent is None:\n",
    "        print(parent)\n",
    "    else:\n",
    "        print(parent.name)"
   ]
  },
  {
   "cell_type": "code",
   "execution_count": 15,
   "metadata": {},
   "outputs": [
    {
     "name": "stdout",
     "output_type": "stream",
     "text": [
      "<html>\n",
      " <head>\n",
      "  <title>\n",
      "   Welcome to the Beans'R'Us Pricing Page\n",
      "  </title>\n",
      "  <link href=\"beansrus.css\" rel=\"stylesheet\" type=\"text/css\"/>\n",
      " </head>\n",
      " <body>\n",
      "  <h2>\n",
      "   Welcome to the Beans'R'Us Pricing Page\n",
      "  </h2>\n",
      "  <p>\n",
      "   Current price of coffee beans =\n",
      "   <strong>\n",
      "    $6.45\n",
      "   </strong>\n",
      "  </p>\n",
      "  <p>\n",
      "   Price valid for 15 minutes from Fri May 11 03:16:42 2018.\n",
      "  </p>\n",
      " </body>\n",
      "</html>\n"
     ]
    }
   ],
   "source": [
    "print(soup.prettify())"
   ]
  },
  {
   "cell_type": "code",
   "execution_count": 16,
   "metadata": {},
   "outputs": [
    {
     "data": {
      "text/plain": [
       "[<p>Current price of coffee beans = <strong>$6.45</strong></p>,\n",
       " <p>Price valid for 15 minutes from Fri May 11 03:16:42 2018.</p>]"
      ]
     },
     "execution_count": 16,
     "metadata": {},
     "output_type": "execute_result"
    }
   ],
   "source": [
    "soup.find_all('p')"
   ]
  },
  {
   "cell_type": "code",
   "execution_count": 18,
   "metadata": {},
   "outputs": [
    {
     "name": "stdout",
     "output_type": "stream",
     "text": [
      "body\n"
     ]
    }
   ],
   "source": [
    "import re\n",
    "for tag in soup.find_all(re.compile('^b')):\n",
    "    print(tag.name)"
   ]
  },
  {
   "cell_type": "code",
   "execution_count": 19,
   "metadata": {},
   "outputs": [
    {
     "name": "stdout",
     "output_type": "stream",
     "text": [
      "html\n",
      "title\n",
      "strong\n"
     ]
    }
   ],
   "source": [
    "import re\n",
    "for tag in soup.find_all(re.compile('t')):\n",
    "    print(tag.name)"
   ]
  },
  {
   "cell_type": "code",
   "execution_count": 20,
   "metadata": {},
   "outputs": [
    {
     "data": {
      "text/plain": [
       "[<p>Current price of coffee beans = <strong>$6.45</strong></p>,\n",
       " <strong>$6.45</strong>,\n",
       " <p>Price valid for 15 minutes from Fri May 11 03:16:42 2018.</p>]"
      ]
     },
     "execution_count": 20,
     "metadata": {},
     "output_type": "execute_result"
    }
   ],
   "source": [
    "soup.find_all(['p', 'strong'])"
   ]
  },
  {
   "cell_type": "code",
   "execution_count": 21,
   "metadata": {},
   "outputs": [
    {
     "name": "stdout",
     "output_type": "stream",
     "text": [
      "html\n",
      "head\n",
      "title\n",
      "link\n",
      "body\n",
      "h2\n",
      "p\n",
      "strong\n",
      "p\n"
     ]
    }
   ],
   "source": [
    "for tag in soup.find_all(True):\n",
    "    print(tag.name)"
   ]
  },
  {
   "cell_type": "code",
   "execution_count": 22,
   "metadata": {},
   "outputs": [],
   "source": [
    "def has_class_but_no_id(tag):\n",
    "    return tag.has_attr('class') and not tag.has_attr('id')"
   ]
  },
  {
   "cell_type": "code",
   "execution_count": 25,
   "metadata": {},
   "outputs": [
    {
     "data": {
      "text/plain": [
       "[]"
      ]
     },
     "execution_count": 25,
     "metadata": {},
     "output_type": "execute_result"
    }
   ],
   "source": [
    "soup.find_all(has_class_but_no_id)"
   ]
  },
  {
   "cell_type": "code",
   "execution_count": 26,
   "metadata": {},
   "outputs": [
    {
     "data": {
      "text/plain": [
       "[<title>Welcome to the Beans'R'Us Pricing Page</title>]"
      ]
     },
     "execution_count": 26,
     "metadata": {},
     "output_type": "execute_result"
    }
   ],
   "source": [
    "soup.find_all('title')"
   ]
  },
  {
   "cell_type": "code",
   "execution_count": 27,
   "metadata": {},
   "outputs": [
    {
     "data": {
      "text/plain": [
       "[<p>Current price of coffee beans = <strong>$6.45</strong></p>,\n",
       " <p>Price valid for 15 minutes from Fri May 11 03:16:42 2018.</p>]"
      ]
     },
     "execution_count": 27,
     "metadata": {},
     "output_type": "execute_result"
    }
   ],
   "source": [
    "soup.find_all('p')"
   ]
  },
  {
   "cell_type": "code",
   "execution_count": null,
   "metadata": {},
   "outputs": [],
   "source": [
    "# end"
   ]
  }
 ],
 "metadata": {
  "kernelspec": {
   "display_name": "Python 3",
   "language": "python",
   "name": "python3"
  },
  "language_info": {
   "codemirror_mode": {
    "name": "ipython",
    "version": 3
   },
   "file_extension": ".py",
   "mimetype": "text/x-python",
   "name": "python",
   "nbconvert_exporter": "python",
   "pygments_lexer": "ipython3",
   "version": "3.6.4"
  }
 },
 "nbformat": 4,
 "nbformat_minor": 2
}
