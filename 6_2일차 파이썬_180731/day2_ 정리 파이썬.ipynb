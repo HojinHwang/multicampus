{
 "cells": [
  {
   "cell_type": "markdown",
   "metadata": {},
   "source": [
    "# 튜플(Tuple)"
   ]
  },
  {
   "cell_type": "markdown",
   "metadata": {},
   "source": [
    "# 튜플 구조 정의 1\n",
    "  튜플이름 = (아이템값1, ....)"
   ]
  },
  {
   "cell_type": "code",
   "execution_count": 2,
   "metadata": {},
   "outputs": [
    {
     "name": "stdout",
     "output_type": "stream",
     "text": [
      "('도', '레', '미', '파', '솔') <class 'tuple'>\n"
     ]
    }
   ],
   "source": [
    "t1 = ('도','레','미','파','솔')\n",
    "print(t1,type(t1))"
   ]
  },
  {
   "cell_type": "markdown",
   "metadata": {},
   "source": [
    "# 튜플 구조 정의 2\n",
    "   \n",
    "   튜플이름 = 아이템값1, 아이템값2 .."
   ]
  },
  {
   "cell_type": "code",
   "execution_count": 3,
   "metadata": {},
   "outputs": [
    {
     "name": "stdout",
     "output_type": "stream",
     "text": [
      "(1, 2, 3, 4, 5) <class 'tuple'>\n"
     ]
    }
   ],
   "source": [
    "t2 = 1,2,3,4,5\n",
    "print(t2,type(t2))"
   ]
  },
  {
   "cell_type": "markdown",
   "metadata": {},
   "source": [
    "# 튜플 인덱싱\n",
    "   \n",
    "   튜플이름[위치번호] 0번부터 시작"
   ]
  },
  {
   "cell_type": "code",
   "execution_count": 4,
   "metadata": {},
   "outputs": [
    {
     "name": "stdout",
     "output_type": "stream",
     "text": [
      "('도', '레', '미', '파', '솔')\n",
      "도\n",
      "솔\n"
     ]
    }
   ],
   "source": [
    "t1 = ('도','레','미','파','솔')\n",
    "print(t1)\n",
    "print(t1[0])\n",
    "print(t1[-1])"
   ]
  },
  {
   "cell_type": "markdown",
   "metadata": {},
   "source": [
    "# 튜플 슬라이싱"
   ]
  },
  {
   "cell_type": "code",
   "execution_count": 5,
   "metadata": {},
   "outputs": [
    {
     "name": "stdout",
     "output_type": "stream",
     "text": [
      "('도', '레', '미')\n"
     ]
    }
   ],
   "source": [
    "print(t1[0:3])"
   ]
  },
  {
   "cell_type": "markdown",
   "metadata": {},
   "source": [
    "# 튜플의 편집방식\n",
    "\n",
    "  삭제 , 변경은 불가능\n",
    "\n",
    "  추가 가능"
   ]
  },
  {
   "cell_type": "code",
   "execution_count": 6,
   "metadata": {},
   "outputs": [
    {
     "name": "stdout",
     "output_type": "stream",
     "text": [
      "myTuple =  (100, '강아지', '지렁이')\n",
      "myTuple[0] =  100\n"
     ]
    }
   ],
   "source": [
    "myTuple = (100, '강아지', '지렁이')\n",
    "print('myTuple = ',myTuple)\n",
    "print('myTuple[0] = ', myTuple[0])"
   ]
  },
  {
   "cell_type": "markdown",
   "metadata": {},
   "source": [
    " myTuple[0] = 200 변경 불가\n",
    "\n",
    "# 추가 가능\n",
    "\n",
    "# 튜플이름 += (값1,값2...)\n",
    "\n",
    "# 튜플 요소 하나만 추가할 경우\n",
    "\n",
    "# 튜플이름 += (값,)"
   ]
  },
  {
   "cell_type": "code",
   "execution_count": 7,
   "metadata": {},
   "outputs": [
    {
     "name": "stdout",
     "output_type": "stream",
     "text": [
      "myTuple =  (100, '강아지', '지렁이', 50, 100)\n",
      "myTuple =  (100, '강아지', '지렁이', 50, 100, '끝')\n"
     ]
    }
   ],
   "source": [
    "myTuple += (50,100)\n",
    "print('myTuple = ', myTuple)\n",
    "myTuple += ('끝',)\n",
    "print('myTuple = ',myTuple)"
   ]
  },
  {
   "cell_type": "markdown",
   "metadata": {},
   "source": [
    "# 튜플함수 적용\n",
    "\n",
    "  요소의 반복값 확인\n",
    "\n",
    "  튜플이름.count(요소값) -> 정수"
   ]
  },
  {
   "cell_type": "code",
   "execution_count": 8,
   "metadata": {},
   "outputs": [
    {
     "name": "stdout",
     "output_type": "stream",
     "text": [
      "30의 반복 횟수 :  3\n"
     ]
    }
   ],
   "source": [
    "t1 = (100,50,30,30,30)\n",
    "print('30의 반복 횟수 : ',t1.count(30))"
   ]
  },
  {
   "cell_type": "markdown",
   "metadata": {},
   "source": [
    " t1.sort() 불가능\n",
    "\n",
    " 튜플 전체의 길이 = 요소의 총 갯수\n",
    "\n",
    " len(튜플이름))"
   ]
  },
  {
   "cell_type": "markdown",
   "metadata": {},
   "source": [
    "# 튜플 요소의 위치값 반환\n",
    "\n",
    "   튜플이름.index(요소값)"
   ]
  },
  {
   "cell_type": "code",
   "execution_count": 9,
   "metadata": {},
   "outputs": [
    {
     "name": "stdout",
     "output_type": "stream",
     "text": [
      "2\n"
     ]
    }
   ],
   "source": [
    "print(t1.index(30))"
   ]
  },
  {
   "cell_type": "markdown",
   "metadata": {},
   "source": [
    "# 자료구조 변환"
   ]
  },
  {
   "cell_type": "markdown",
   "metadata": {},
   "source": [
    "# 문자열 => 튜플\n",
    "\n",
    "  tuple(문자열변수나 문자열)"
   ]
  },
  {
   "cell_type": "code",
   "execution_count": 10,
   "metadata": {},
   "outputs": [
    {
     "name": "stdout",
     "output_type": "stream",
     "text": [
      "Python <class 'str'>\n",
      "('P', 'y', 't', 'h', 'o', 'n') <class 'tuple'>\n"
     ]
    }
   ],
   "source": [
    "myStr = 'Python'\n",
    "print(myStr, type(myStr))\n",
    "myTuple = tuple(myStr)\n",
    "# ('P', 'y', 't', 'h', 'o', 'n')\n",
    "print(myTuple,type(myTuple))"
   ]
  },
  {
   "cell_type": "markdown",
   "metadata": {},
   "source": [
    "# 리스트 => 튜플\n",
    "\n",
    "  tuple(리스트이름)"
   ]
  },
  {
   "cell_type": "code",
   "execution_count": 11,
   "metadata": {},
   "outputs": [
    {
     "name": "stdout",
     "output_type": "stream",
     "text": [
      "['수학', '과학', '영어'] <class 'list'>\n",
      "('수학', '과학', '영어') <class 'tuple'>\n"
     ]
    }
   ],
   "source": [
    "myList = ['수학','과학','영어']\n",
    "print(myList, type(myList))\n",
    "myTuple = tuple(myList)\n",
    "print(myTuple, type(myTuple))\n"
   ]
  },
  {
   "cell_type": "markdown",
   "metadata": {},
   "source": [
    "# 튜플 -> 리스트\n",
    "\n",
    "   list(튜플이름 )"
   ]
  },
  {
   "cell_type": "code",
   "execution_count": 12,
   "metadata": {},
   "outputs": [
    {
     "name": "stdout",
     "output_type": "stream",
     "text": [
      "[100, 50, 30, 30, 30] <class 'list'>\n"
     ]
    }
   ],
   "source": [
    "myTuple = (100,50,30,30,30)\n",
    "myList = list(myTuple)\n",
    "print(myList, type(myList))"
   ]
  },
  {
   "cell_type": "markdown",
   "metadata": {},
   "source": [
    "# 튜플 => 문자열 1\n",
    "\n",
    "   str(튜플이름)"
   ]
  },
  {
   "cell_type": "code",
   "execution_count": 13,
   "metadata": {},
   "outputs": [
    {
     "name": "stdout",
     "output_type": "stream",
     "text": [
      "('도', '레', '미', '파', '솔') <class 'tuple'>\n",
      "('도', '레', '미', '파', '솔') <class 'str'>\n",
      "(\n"
     ]
    }
   ],
   "source": [
    "myTuple = ('도','레','미','파','솔')\n",
    "print(myTuple, type(myTuple))\n",
    "myStr = str(myTuple)\n",
    "print(myStr, type(myStr))\n",
    "print(myStr[0]) # ("
   ]
  },
  {
   "cell_type": "markdown",
   "metadata": {},
   "source": [
    "# 튜플 => 문자열 2\n",
    "\n",
    "  '구분자'.join(튜플이름)"
   ]
  },
  {
   "cell_type": "code",
   "execution_count": 14,
   "metadata": {},
   "outputs": [
    {
     "name": "stdout",
     "output_type": "stream",
     "text": [
      "('도', '레', '미', '파', '솔') <class 'tuple'>\n",
      "도,레,미,파,솔 <class 'str'>\n",
      "도/레/미/파/솔 <class 'str'>\n"
     ]
    }
   ],
   "source": [
    "myTuple = ('도','레','미','파','솔')\n",
    "print(myTuple, type(myTuple))\n",
    "# 도,레,미,파,솔\n",
    "myStr = ','.join(myTuple)\n",
    "print(myStr, type(myStr))\n",
    "myStr2 = '/'.join(myTuple)\n",
    "print(myStr2, type(myStr2))"
   ]
  },
  {
   "cell_type": "code",
   "execution_count": null,
   "metadata": {},
   "outputs": [],
   "source": []
  },
  {
   "cell_type": "code",
   "execution_count": null,
   "metadata": {},
   "outputs": [],
   "source": []
  }
 ],
 "metadata": {
  "kernelspec": {
   "display_name": "Python 3",
   "language": "python",
   "name": "python3"
  },
  "language_info": {
   "codemirror_mode": {
    "name": "ipython",
    "version": 3
   },
   "file_extension": ".py",
   "mimetype": "text/x-python",
   "name": "python",
   "nbconvert_exporter": "python",
   "pygments_lexer": "ipython3",
   "version": "3.6.5"
  }
 },
 "nbformat": 4,
 "nbformat_minor": 2
}
