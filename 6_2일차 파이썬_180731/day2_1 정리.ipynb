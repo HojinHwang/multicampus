{
 "cells": [
  {
   "cell_type": "markdown",
   "metadata": {},
   "source": [
    "# 문자열 함수\n",
    "\n",
    "  문자열변수.count(찾는 문자) - 갯수 변환"
   ]
  },
  {
   "cell_type": "code",
   "execution_count": 1,
   "metadata": {},
   "outputs": [
    {
     "name": "stdout",
     "output_type": "stream",
     "text": [
      "Python string Victory\n",
      "myStr 문자열은 Python string Victory\n",
      "myStr 문자열은 Python string Victory\n",
      "2\n",
      "<class 'int'>\n"
     ]
    }
   ],
   "source": [
    "myStr = 'Python string Victory'\n",
    "print(myStr)\n",
    "print('myStr 문자열은 {}'.format(myStr))\n",
    "print('myStr 문자열은 %s'% (myStr))\n",
    "print(myStr.count('y'))  # y가 몇개있는지 세어줌\n",
    "num = myStr.count('y')\n",
    "print(type(num)) # 정수 int"
   ]
  },
  {
   "cell_type": "markdown",
   "metadata": {},
   "source": [
    "# 문자열변수.find(찾는 문자) - 위치반환\n",
    "\n",
    "  - 위치 반환\n",
    "\n",
    "# 반환값이 -1 이라면 찾는 문자가 없다."
   ]
  },
  {
   "cell_type": "code",
   "execution_count": 2,
   "metadata": {},
   "outputs": [
    {
     "name": "stdout",
     "output_type": "stream",
     "text": [
      "첫번째 글자는 ? P \n",
      "3-5 글자 반환 ? tho\n",
      "7\n",
      "<class 'int'>\n",
      "0\n",
      "-1\n"
     ]
    }
   ],
   "source": [
    "print('첫번째 글자는 ? {} '.format(myStr[0]))\n",
    "print('3-5 글자 반환 ? {}'.format(myStr[2:5]))\n",
    "print(myStr.find('s')) #7\n",
    "print(type(myStr.find('s'))) # 정수 int\n",
    "print(myStr.find('P'))\n",
    "print(myStr.find('k'))"
   ]
  },
  {
   "cell_type": "markdown",
   "metadata": {},
   "source": [
    "# 구분자변수 .join(문자열이나 문자열 변수)"
   ]
  },
  {
   "cell_type": "code",
   "execution_count": 5,
   "metadata": {},
   "outputs": [
    {
     "name": "stdout",
     "output_type": "stream",
     "text": [
      "a,b,c,d\n",
      "1 / 2 / 3 / 4 / 5\n"
     ]
    }
   ],
   "source": [
    "a= \",\"\n",
    "a.join('abcd')\n",
    "print(a.join('abcd'))\n",
    "sep = ' / '\n",
    "print(sep.join('12345'))"
   ]
  },
  {
   "cell_type": "markdown",
   "metadata": {},
   "source": [
    "# 문자열을 대소문자로 변경\n",
    "\n",
    "  문자열변수 .upper()\n",
    "\n",
    "  문자열변수 .lower()"
   ]
  },
  {
   "cell_type": "code",
   "execution_count": 6,
   "metadata": {},
   "outputs": [
    {
     "name": "stdout",
     "output_type": "stream",
     "text": [
      "PYTHON STRING VICTORY\n",
      "python string victory\n",
      "Python string Victory\n"
     ]
    }
   ],
   "source": [
    "print(myStr.upper()) # 대문자\n",
    "print(myStr.lower()) # 소문자\n",
    "print(myStr) # 원본\n"
   ]
  },
  {
   "cell_type": "markdown",
   "metadata": {},
   "source": [
    "# 문자열변수.strip()\n",
    "\n",
    "\n",
    "  문자열안에 공백 삭제"
   ]
  },
  {
   "cell_type": "code",
   "execution_count": 7,
   "metadata": {},
   "outputs": [
    {
     "name": "stdout",
     "output_type": "stream",
     "text": [
      "Python string Victory\n",
      "  Python string Victory  \n",
      "Python string Victory\n"
     ]
    }
   ],
   "source": [
    "myStr = '  Python string Victory  '\n",
    "print(myStr.strip()) # 공백 삭제\n",
    "print(myStr) # 원본\n",
    "result = myStr.strip()\n",
    "print(result)"
   ]
  },
  {
   "cell_type": "markdown",
   "metadata": {},
   "source": [
    "# 문자열변수.replace('찾는문자', '교체문자') , str형태여야함"
   ]
  },
  {
   "cell_type": "code",
   "execution_count": 8,
   "metadata": {},
   "outputs": [
    {
     "name": "stdout",
     "output_type": "stream",
     "text": [
      "Your leg is too short\n"
     ]
    }
   ],
   "source": [
    "a = 'Life is too short'\n",
    "a.replace('Life', 'Your leg')\n",
    "print(a.replace('Life','Your leg'))\n"
   ]
  },
  {
   "cell_type": "code",
   "execution_count": null,
   "metadata": {},
   "outputs": [],
   "source": []
  }
 ],
 "metadata": {
  "kernelspec": {
   "display_name": "Python 3",
   "language": "python",
   "name": "python3"
  },
  "language_info": {
   "codemirror_mode": {
    "name": "ipython",
    "version": 3
   },
   "file_extension": ".py",
   "mimetype": "text/x-python",
   "name": "python",
   "nbconvert_exporter": "python",
   "pygments_lexer": "ipython3",
   "version": "3.7.0"
  }
 },
 "nbformat": 4,
 "nbformat_minor": 2
}
