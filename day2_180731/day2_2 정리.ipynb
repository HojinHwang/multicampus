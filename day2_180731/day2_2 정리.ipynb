{
 "cells": [
  {
   "cell_type": "markdown",
   "metadata": {},
   "source": [
    "# 자료형\n",
    "\n",
    "# 정수 , 실수 , 문자열\n",
    "\n",
    "# 리스트 , 튜플 , 딕셔너리 , 집합"
   ]
  },
  {
   "cell_type": "markdown",
   "metadata": {},
   "source": [
    "# 리스트(list)\n",
    "\n",
    "정의 리스트이름 = [아이템1,아이템2...]"
   ]
  },
  {
   "cell_type": "code",
   "execution_count": 1,
   "metadata": {},
   "outputs": [
    {
     "name": "stdout",
     "output_type": "stream",
     "text": [
      "fruits 목록 : ['사과', '수박', '망고', '바나나']\n"
     ]
    }
   ],
   "source": [
    "fruits = ['사과','수박','망고','바나나']\n",
    "print('fruits 목록 : {}'.format(fruits))"
   ]
  },
  {
   "cell_type": "markdown",
   "metadata": {},
   "source": [
    "# 리스트 인덱싱\n",
    "\n",
    "0부터 시작\n",
    "\n",
    "음수일때는 역순 -1:마지막인덱싱값"
   ]
  },
  {
   "cell_type": "code",
   "execution_count": 2,
   "metadata": {},
   "outputs": [
    {
     "name": "stdout",
     "output_type": "stream",
     "text": [
      "fruits[0] = 사과\n",
      "fruits[3] = 바나나\n",
      "fruits[-1] = 바나나\n"
     ]
    }
   ],
   "source": [
    "print('fruits[0] = {}'.format(fruits[0])) # 사과\n",
    "print('fruits[3] = {}'.format(fruits[3])) # 바나나\n",
    "print('fruits[-1] = {}'.format(fruits[-1])) # 바나나"
   ]
  },
  {
   "cell_type": "markdown",
   "metadata": {},
   "source": [
    "# 리스트 요소의 교체 "
   ]
  },
  {
   "cell_type": "code",
   "execution_count": 3,
   "metadata": {},
   "outputs": [
    {
     "name": "stdout",
     "output_type": "stream",
     "text": [
      "fruits 목록 : ['사과', '수박', '망고', '바나나']\n",
      "fruits 목록 : ['자두', '수박', '망고', '바나나']\n"
     ]
    }
   ],
   "source": [
    "print('fruits 목록 : {}'.format(fruits))\n",
    "fruits[0] = '자두'\n",
    "print('fruits 목록 : {}'.format(fruits))"
   ]
  },
  {
   "cell_type": "markdown",
   "metadata": {},
   "source": [
    "# 리스트 전체의 길이"
   ]
  },
  {
   "cell_type": "code",
   "execution_count": 4,
   "metadata": {},
   "outputs": [
    {
     "name": "stdout",
     "output_type": "stream",
     "text": [
      "fruits 리스트 전체의 길이 : 4\n"
     ]
    }
   ],
   "source": [
    "print('fruits 리스트 전체의 길이 : {}'.format(len(fruits)))"
   ]
  },
  {
   "cell_type": "markdown",
   "metadata": {},
   "source": [
    "# 문자열 전체의 길이\n",
    "\n",
    "len(문자열변수나 문자열)"
   ]
  },
  {
   "cell_type": "code",
   "execution_count": 5,
   "metadata": {},
   "outputs": [
    {
     "name": "stdout",
     "output_type": "stream",
     "text": [
      "my Str 전체의 길이 : 6\n"
     ]
    }
   ],
   "source": [
    "myStr = 'Python'\n",
    "print('my Str 전체의 길이 : {}'.format(len(myStr)))"
   ]
  },
  {
   "cell_type": "markdown",
   "metadata": {},
   "source": [
    "# 리스트의 슬라이싱 : 부분 추출\n",
    "\n",
    " 리스트이름[Start:End]"
   ]
  },
  {
   "cell_type": "code",
   "execution_count": 6,
   "metadata": {},
   "outputs": [
    {
     "name": "stdout",
     "output_type": "stream",
     "text": [
      "['사과', '수박', '망고', '바나나']\n",
      "['사과', '수박']\n",
      "['망고', '바나나']\n",
      "['사과', '수박', '망고', '바나나']\n"
     ]
    }
   ],
   "source": [
    "fruits = ['사과','수박','망고','바나나']\n",
    "print(fruits[:]) # 전체출력\n",
    "print(fruits[0:2]) # 0,1 인덱스 값 출력\n",
    "print(fruits[2:]) #\n",
    "print(fruits)"
   ]
  },
  {
   "cell_type": "markdown",
   "metadata": {},
   "source": [
    "# 리스트 추가\n",
    "\n",
    "리스트이름.append(요소값)\n",
    "\n",
    " 마지막 위치에 추가"
   ]
  },
  {
   "cell_type": "code",
   "execution_count": 7,
   "metadata": {},
   "outputs": [
    {
     "name": "stdout",
     "output_type": "stream",
     "text": [
      "['사과', '수박', '망고', '바나나']\n",
      "['사과', '수박', '망고', '바나나', '복숭아']\n"
     ]
    }
   ],
   "source": [
    "fruits = ['사과','수박','망고','바나나']\n",
    "print(fruits)\n",
    "fruits.append('복숭아')\n",
    "print(fruits)"
   ]
  },
  {
   "cell_type": "markdown",
   "metadata": {},
   "source": [
    "# 입력값을 리스트에 추가"
   ]
  },
  {
   "cell_type": "code",
   "execution_count": 8,
   "metadata": {},
   "outputs": [
    {
     "name": "stdout",
     "output_type": "stream",
     "text": [
      "drama 리스트 :  []\n",
      "최근 본 드라마 제목을 입력하세요?연애의 발견\n",
      "drama 리스트 :  ['연애의 발견']\n"
     ]
    }
   ],
   "source": [
    "drama = []\n",
    "print('drama 리스트 : ',drama)\n",
    "data = input('최근 본 드라마 제목을 입력하세요?')\n",
    "drama.append(data)\n",
    "print('drama 리스트 : ',drama)"
   ]
  },
  {
   "cell_type": "markdown",
   "metadata": {},
   "source": [
    "# 리스트 추가 2\n",
    "\n",
    " 리스트이름.insert(위치인덱스,요소값)\n",
    "\n",
    " 인덱스에서 지정한 위치에 요소 삽입"
   ]
  },
  {
   "cell_type": "code",
   "execution_count": 9,
   "metadata": {},
   "outputs": [
    {
     "name": "stdout",
     "output_type": "stream",
     "text": [
      "numbers List =  [100, 200, 300, 400]\n"
     ]
    }
   ],
   "source": [
    "numbers = [100,200,300,400]\n",
    "print('numbers List = ',numbers)"
   ]
  },
  {
   "cell_type": "markdown",
   "metadata": {},
   "source": [
    "# 첫번째 위치에 10 추가"
   ]
  },
  {
   "cell_type": "code",
   "execution_count": 12,
   "metadata": {},
   "outputs": [
    {
     "name": "stdout",
     "output_type": "stream",
     "text": [
      "[10, 10, 10, 100, 200, 300, 400]\n"
     ]
    }
   ],
   "source": [
    "numbers.insert(0,10)\n",
    "print(numbers)"
   ]
  },
  {
   "cell_type": "markdown",
   "metadata": {},
   "source": [
    "# 3번째 위치에 40추가"
   ]
  },
  {
   "cell_type": "code",
   "execution_count": 13,
   "metadata": {},
   "outputs": [
    {
     "name": "stdout",
     "output_type": "stream",
     "text": [
      "[10, 10, 40, 10, 100, 200, 300, 400]\n"
     ]
    }
   ],
   "source": [
    "numbers.insert(2,40)\n",
    "print(numbers)"
   ]
  },
  {
   "cell_type": "code",
   "execution_count": null,
   "metadata": {},
   "outputs": [],
   "source": []
  }
 ],
 "metadata": {
  "kernelspec": {
   "display_name": "Python 3",
   "language": "python",
   "name": "python3"
  },
  "language_info": {
   "codemirror_mode": {
    "name": "ipython",
    "version": 3
   },
   "file_extension": ".py",
   "mimetype": "text/x-python",
   "name": "python",
   "nbconvert_exporter": "python",
   "pygments_lexer": "ipython3",
   "version": "3.7.0"
  }
 },
 "nbformat": 4,
 "nbformat_minor": 2
}
