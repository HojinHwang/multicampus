{
 "cells": [
  {
   "cell_type": "markdown",
   "metadata": {},
   "source": [
    "# 파이썬 day1"
   ]
  },
  {
   "cell_type": "markdown",
   "metadata": {},
   "source": [
    "## 주석이란 ?\n",
    "* 출력/실행은 되지 않지만 코드에 대해서 설명글을 달수있다.\n",
    "* 문법은 #주석내용\n",
    "\n"
   ]
  },
  {
   "cell_type": "code",
   "execution_count": null,
   "metadata": {},
   "outputs": [],
   "source": [
    "# 주석"
   ]
  },
  {
   "cell_type": "markdown",
   "metadata": {},
   "source": [
    "## 출력문 print()\n",
    "1. 결과를 출력한다.\n",
    "\n",
    "2. 문법 : print (값 또는 변수)\n",
    "\n",
    "3. 쉼표를 이용하여 연속으로 출력하려면?\n",
    "    *print(값1,값2,....)\n",
    "    *예) print(1,'파이썬')"
   ]
  },
  {
   "cell_type": "code",
   "execution_count": 2,
   "metadata": {},
   "outputs": [
    {
     "name": "stdout",
     "output_type": "stream",
     "text": [
      "Hello World\n"
     ]
    }
   ],
   "source": [
    "print('Hello World')"
   ]
  },
  {
   "cell_type": "code",
   "execution_count": 4,
   "metadata": {},
   "outputs": [
    {
     "name": "stdout",
     "output_type": "stream",
     "text": [
      "1 a c\n"
     ]
    }
   ],
   "source": [
    "print(1,'a','c')"
   ]
  },
  {
   "cell_type": "code",
   "execution_count": 3,
   "metadata": {},
   "outputs": [
    {
     "name": "stdout",
     "output_type": "stream",
     "text": [
      "------------------------------\n"
     ]
    }
   ],
   "source": [
    "print('-'*30)"
   ]
  },
  {
   "cell_type": "markdown",
   "metadata": {},
   "source": [
    "# 연산자\n",
    "\n",
    "- 산술연산자\n",
    "- 관계연산자\n",
    "- 대입연산자\n",
    "- 연산자 우선 순위\n",
    "\n"
   ]
  },
  {
   "cell_type": "code",
   "execution_count": 6,
   "metadata": {},
   "outputs": [
    {
     "name": "stdout",
     "output_type": "stream",
     "text": [
      "68\n",
      "False\n"
     ]
    }
   ],
   "source": [
    "print(23+45)\n",
    "print(23>45)"
   ]
  },
  {
   "cell_type": "markdown",
   "metadata": {},
   "source": [
    "# 입력문\n",
    "\n",
    "- 문법 : input(메세지)\n",
    "- 예 : input(' 숫자를 입력하세요 ')\n",
    "- 변수에 저장하려면 ?\n",
    "   변수명 = input(메세지)\n",
    "- 입력값은 문자열"
   ]
  },
  {
   "cell_type": "code",
   "execution_count": 7,
   "metadata": {},
   "outputs": [
    {
     "name": "stdout",
     "output_type": "stream",
     "text": [
      "당신의 이름은 ?황호진\n",
      "나의 이름은 황호진 입니다.\n"
     ]
    }
   ],
   "source": [
    "userName = input('당신의 이름은 ?')\n",
    "print('나의 이름은' ,userName, '입니다.')"
   ]
  },
  {
   "cell_type": "markdown",
   "metadata": {},
   "source": [
    "# 출력은 포맷 함수 - format()\n",
    "\n",
    "- 정리"
   ]
  },
  {
   "cell_type": "markdown",
   "metadata": {},
   "source": [
    "# %함수를 통한 출력 - ('%d,%f,%s' % (변수값))\n",
    "\n",
    "- %d = 정수\n",
    "- %f = 실수\n",
    "- %s = 문자열\n"
   ]
  },
  {
   "cell_type": "markdown",
   "metadata": {},
   "source": [
    "# 문자열 인덱싱\n",
    "\n",
    "- 0부터 시작한다.\n",
    "- 음수값 지정시 뒤에서부터 위치가 지정된다.\n",
    "- 문자열 슬라이싱 = 부분추출\n",
    "- 문자열변수 [start:end:step]"
   ]
  },
  {
   "cell_type": "code",
   "execution_count": null,
   "metadata": {},
   "outputs": [],
   "source": []
  },
  {
   "cell_type": "code",
   "execution_count": null,
   "metadata": {},
   "outputs": [],
   "source": []
  },
  {
   "cell_type": "code",
   "execution_count": null,
   "metadata": {},
   "outputs": [],
   "source": []
  },
  {
   "cell_type": "code",
   "execution_count": null,
   "metadata": {},
   "outputs": [],
   "source": []
  }
 ],
 "metadata": {
  "kernelspec": {
   "display_name": "Python 3",
   "language": "python",
   "name": "python3"
  },
  "language_info": {
   "codemirror_mode": {
    "name": "ipython",
    "version": 3
   },
   "file_extension": ".py",
   "mimetype": "text/x-python",
   "name": "python",
   "nbconvert_exporter": "python",
   "pygments_lexer": "ipython3",
   "version": "3.7.0"
  }
 },
 "nbformat": 4,
 "nbformat_minor": 2
}
